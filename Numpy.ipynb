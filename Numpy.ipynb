{
  "cells": [
    {
      "cell_type": "markdown",
      "metadata": {
        "id": "view-in-github",
        "colab_type": "text"
      },
      "source": [
        "<a href=\"https://colab.research.google.com/github/Alchem1st18/Numpy_pandas_learnings/blob/main/Numpy.ipynb\" target=\"_parent\"><img src=\"https://colab.research.google.com/assets/colab-badge.svg\" alt=\"Open In Colab\"/></a>"
      ]
    },
    {
      "cell_type": "code",
      "execution_count": null,
      "metadata": {
        "id": "mqkex27UKeva"
      },
      "outputs": [],
      "source": [
        "import numpy as np"
      ]
    },
    {
      "cell_type": "code",
      "execution_count": null,
      "metadata": {
        "colab": {
          "base_uri": "https://localhost:8080/"
        },
        "id": "wgW-YyXkOLm9",
        "outputId": "1d143329-54ff-447a-8676-1aea51bb6929"
      },
      "outputs": [
        {
          "name": "stdout",
          "output_type": "stream",
          "text": [
            "[1 2 3]\n"
          ]
        }
      ],
      "source": [
        "a = np.array([1,2,3],dtype = 'int16')\n",
        "print(a)"
      ]
    },
    {
      "cell_type": "code",
      "execution_count": null,
      "metadata": {
        "colab": {
          "base_uri": "https://localhost:8080/"
        },
        "id": "vAYJqmrbQmp-",
        "outputId": "dafcb5d2-c4f2-43b5-9d6c-8c41b76ad777"
      },
      "outputs": [
        {
          "name": "stdout",
          "output_type": "stream",
          "text": [
            "[[1.2 2.4 3.6]\n",
            " [9.8 8.7 7.6]]\n"
          ]
        }
      ],
      "source": [
        "b = np.array([[1.2,2.4,3.6],[9.8,8.7,7.6]])\n",
        "print(b)\n"
      ]
    },
    {
      "cell_type": "code",
      "execution_count": null,
      "metadata": {
        "colab": {
          "base_uri": "https://localhost:8080/"
        },
        "id": "R4_emHlEQ3gL",
        "outputId": "76066693-b902-4102-bb0f-b9a300e1bd27"
      },
      "outputs": [
        {
          "name": "stdout",
          "output_type": "stream",
          "text": [
            "1\n",
            "2\n"
          ]
        }
      ],
      "source": [
        "#getting dimensions\n",
        "print(a.ndim)\n",
        "print(b.ndim)"
      ]
    },
    {
      "cell_type": "code",
      "execution_count": null,
      "metadata": {
        "colab": {
          "base_uri": "https://localhost:8080/"
        },
        "id": "rWZVe8-CQ-Bi",
        "outputId": "b4e4d854-c718-485b-97d9-7788d03101d9"
      },
      "outputs": [
        {
          "name": "stdout",
          "output_type": "stream",
          "text": [
            "(3,)\n",
            "(2, 3)\n"
          ]
        }
      ],
      "source": [
        "#getting shape\n",
        "print(a.shape)\n",
        "print(b.shape)\n"
      ]
    },
    {
      "cell_type": "code",
      "execution_count": null,
      "metadata": {
        "colab": {
          "base_uri": "https://localhost:8080/"
        },
        "id": "PaTCDH9LRSpv",
        "outputId": "0d8e25de-f84c-4e4f-e37a-eaa5072c1f7c"
      },
      "outputs": [
        {
          "name": "stdout",
          "output_type": "stream",
          "text": [
            "int16\n",
            "float64\n"
          ]
        }
      ],
      "source": [
        "#getting datatype\n",
        "print(a.dtype)  #generally, if not specified its int64. we explicityly gave the dtpe as int16\n",
        "print(b.dtype)"
      ]
    },
    {
      "cell_type": "code",
      "execution_count": null,
      "metadata": {
        "colab": {
          "base_uri": "https://localhost:8080/"
        },
        "id": "ueLJAJNyRnV7",
        "outputId": "08482c58-c109-4d86-c153-70da50504473"
      },
      "outputs": [
        {
          "data": {
            "text/plain": [
              "2"
            ]
          },
          "execution_count": 8,
          "metadata": {},
          "output_type": "execute_result"
        }
      ],
      "source": [
        "#getting size\n",
        "a.itemsize     #i.e. the number of bytes for each element. [dtype is int16 so 2 bytes]"
      ]
    },
    {
      "cell_type": "code",
      "execution_count": null,
      "metadata": {
        "colab": {
          "base_uri": "https://localhost:8080/"
        },
        "id": "sdQuDgv6SF05",
        "outputId": "6be08447-d192-4c73-bdc0-182a406bf4cf"
      },
      "outputs": [
        {
          "data": {
            "text/plain": [
              "6"
            ]
          },
          "execution_count": 9,
          "metadata": {},
          "output_type": "execute_result"
        }
      ],
      "source": [
        "#getting total size\n",
        "a.size*a.itemsize\n",
        "#or\n",
        "a.nbytes"
      ]
    },
    {
      "cell_type": "markdown",
      "metadata": {
        "id": "JtsYlvikSkA8"
      },
      "source": [
        "Accessing/Changing values\n"
      ]
    },
    {
      "cell_type": "code",
      "execution_count": null,
      "metadata": {
        "id": "wOt-59HUSWtS"
      },
      "outputs": [],
      "source": [
        "a = np.array([[1,2,3,4,5,6,7],[8,9,10,11,12,13,14]])"
      ]
    },
    {
      "cell_type": "code",
      "execution_count": null,
      "metadata": {
        "colab": {
          "base_uri": "https://localhost:8080/"
        },
        "id": "_CPoWc83SyZS",
        "outputId": "44689e1e-a7e6-49fe-a2d6-8474f2ce3c9c"
      },
      "outputs": [
        {
          "data": {
            "text/plain": [
              "(2, 7)"
            ]
          },
          "execution_count": 11,
          "metadata": {},
          "output_type": "execute_result"
        }
      ],
      "source": [
        "a.shape"
      ]
    },
    {
      "cell_type": "code",
      "execution_count": null,
      "metadata": {
        "colab": {
          "base_uri": "https://localhost:8080/"
        },
        "id": "oXwwoow4S1ix",
        "outputId": "c41eb92c-20c7-42da-ca65-16b5ca3c0997"
      },
      "outputs": [
        {
          "data": {
            "text/plain": [
              "10"
            ]
          },
          "execution_count": 12,
          "metadata": {},
          "output_type": "execute_result"
        }
      ],
      "source": [
        "#accesing any index in matrix\n",
        "a[1][2]"
      ]
    },
    {
      "cell_type": "code",
      "execution_count": null,
      "metadata": {
        "colab": {
          "base_uri": "https://localhost:8080/"
        },
        "id": "QY0jSWiLTBfB",
        "outputId": "cdfd1545-dc22-43e5-b6ed-d00d0fc8a89c"
      },
      "outputs": [
        {
          "data": {
            "text/plain": [
              "array([ 8,  9, 10, 11, 12, 13, 14])"
            ]
          },
          "execution_count": 16,
          "metadata": {},
          "output_type": "execute_result"
        }
      ],
      "source": [
        "#accessing complete row\n",
        "a[1,:]"
      ]
    },
    {
      "cell_type": "code",
      "execution_count": null,
      "metadata": {
        "colab": {
          "base_uri": "https://localhost:8080/"
        },
        "id": "ChYrazCbUAoI",
        "outputId": "4fe5cfe8-b2d0-4641-fa4b-f8ea4c55166c"
      },
      "outputs": [
        {
          "data": {
            "text/plain": [
              "array([2, 9])"
            ]
          },
          "execution_count": 17,
          "metadata": {},
          "output_type": "execute_result"
        }
      ],
      "source": [
        "#accessing complete column\n",
        "a[:,1]"
      ]
    },
    {
      "cell_type": "code",
      "execution_count": null,
      "metadata": {
        "colab": {
          "base_uri": "https://localhost:8080/"
        },
        "id": "sEfeQhg7UEVm",
        "outputId": "b3fc860b-2d39-4d67-fc1b-1b901660064f"
      },
      "outputs": [
        {
          "data": {
            "text/plain": [
              "array([2, 4])"
            ]
          },
          "execution_count": 21,
          "metadata": {},
          "output_type": "execute_result"
        }
      ],
      "source": [
        "#accesing in ranges + skips in between  [start index : end index : step size]\n",
        "a[0,1:5:2]"
      ]
    },
    {
      "cell_type": "code",
      "execution_count": 28,
      "metadata": {
        "id": "XL_wtWU0UYJb"
      },
      "outputs": [],
      "source": [
        "#changing elements\n",
        "a[1][2] = 45\n",
        "a[:,3] = 23\n",
        "a[0,:] = 55"
      ]
    },
    {
      "cell_type": "code",
      "execution_count": 29,
      "metadata": {
        "id": "I_HBEgxGUkXc",
        "colab": {
          "base_uri": "https://localhost:8080/"
        },
        "outputId": "fb23d495-7390-4826-8405-493320ef1b66"
      },
      "outputs": [
        {
          "output_type": "stream",
          "name": "stdout",
          "text": [
            "[[55 55 55 55 55 55 55]\n",
            " [ 8  9 45 23 12 13 14]]\n"
          ]
        }
      ],
      "source": [
        "print(a)"
      ]
    },
    {
      "cell_type": "code",
      "source": [
        "b = np.array([[[1,2],[3,4]],[[5,6],[7,8]]])"
      ],
      "metadata": {
        "id": "FGXU3CawVIHY"
      },
      "execution_count": 33,
      "outputs": []
    },
    {
      "cell_type": "code",
      "source": [
        "b.shape"
      ],
      "metadata": {
        "colab": {
          "base_uri": "https://localhost:8080/"
        },
        "id": "HfUA-l3XVjPM",
        "outputId": "b3d0ab6a-dd17-45ac-d239-1a1512eb3dc7"
      },
      "execution_count": 34,
      "outputs": [
        {
          "output_type": "execute_result",
          "data": {
            "text/plain": [
              "(2, 2, 2)"
            ]
          },
          "metadata": {},
          "execution_count": 34
        }
      ]
    },
    {
      "cell_type": "code",
      "source": [
        "#accessing elements [start finding from OUTSIDE-to-INSIDE]\n",
        "b[0][1][1]\n",
        "#or\n",
        "b[0,1,1]"
      ],
      "metadata": {
        "colab": {
          "base_uri": "https://localhost:8080/"
        },
        "id": "O4QkBioDVmfA",
        "outputId": "82ffb80a-f19c-4c29-91af-05e8b7ddcb0f"
      },
      "execution_count": 36,
      "outputs": [
        {
          "output_type": "execute_result",
          "data": {
            "text/plain": [
              "4"
            ]
          },
          "metadata": {},
          "execution_count": 36
        }
      ]
    },
    {
      "cell_type": "code",
      "source": [
        "b[1][:][1]"
      ],
      "metadata": {
        "colab": {
          "base_uri": "https://localhost:8080/"
        },
        "id": "pqDIqKGNWej0",
        "outputId": "ca012e6b-764f-4894-ed1b-dcf9348e3462"
      },
      "execution_count": 37,
      "outputs": [
        {
          "output_type": "execute_result",
          "data": {
            "text/plain": [
              "array([7, 8])"
            ]
          },
          "metadata": {},
          "execution_count": 37
        }
      ]
    },
    {
      "cell_type": "code",
      "source": [
        "#if we want to change/replace, ENSURE THE DIAMETERS ARE SAME\n",
        "b[0][1][0] = 123 # single element so change it\n",
        "b[1][:][1] = [234,345]  # a list so change it to a list with same dimensions itself"
      ],
      "metadata": {
        "id": "T56kjyfUV_zY"
      },
      "execution_count": 38,
      "outputs": []
    },
    {
      "cell_type": "code",
      "source": [
        "b"
      ],
      "metadata": {
        "colab": {
          "base_uri": "https://localhost:8080/"
        },
        "id": "EaZ3SM4HWonR",
        "outputId": "2298020a-5204-4d35-f075-d012ae6ef83c"
      },
      "execution_count": 39,
      "outputs": [
        {
          "output_type": "execute_result",
          "data": {
            "text/plain": [
              "array([[[  1,   2],\n",
              "        [123,   4]],\n",
              "\n",
              "       [[  5,   6],\n",
              "        [234, 345]]])"
            ]
          },
          "metadata": {},
          "execution_count": 39
        }
      ]
    },
    {
      "cell_type": "markdown",
      "source": [
        "Initializing arrays"
      ],
      "metadata": {
        "id": "6aTDbYwoWyPy"
      }
    },
    {
      "cell_type": "code",
      "source": [
        "#create a matrix having all 0s or all 1s\n",
        "np.zeros((2,3))  # inner numbers are dimensions\n",
        "np.ones((3,2,1), dtype = 'int8') # data type can also be specified\n"
      ],
      "metadata": {
        "colab": {
          "base_uri": "https://localhost:8080/"
        },
        "id": "heq2HiMlWp_t",
        "outputId": "e006c459-fac3-4fad-c6c2-d83be392e341"
      },
      "execution_count": 45,
      "outputs": [
        {
          "output_type": "execute_result",
          "data": {
            "text/plain": [
              "array([[[1],\n",
              "        [1]],\n",
              "\n",
              "       [[1],\n",
              "        [1]],\n",
              "\n",
              "       [[1],\n",
              "        [1]]], dtype=int8)"
            ]
          },
          "metadata": {},
          "execution_count": 45
        }
      ]
    },
    {
      "cell_type": "code",
      "source": [
        "#initialize matrix with any value other tha 0/1\n",
        "np.full((2,3),56)  # first param = dimensions , second param = value\n",
        "x = np.full(a.shape,345)\n",
        "print(x)"
      ],
      "metadata": {
        "colab": {
          "base_uri": "https://localhost:8080/"
        },
        "id": "JaIsinKcYPqo",
        "outputId": "2903b9b9-8123-4209-f222-a0b20245c110"
      },
      "execution_count": 47,
      "outputs": [
        {
          "output_type": "stream",
          "name": "stdout",
          "text": [
            "[[345 345 345 345 345 345 345]\n",
            " [345 345 345 345 345 345 345]]\n"
          ]
        }
      ]
    },
    {
      "cell_type": "code",
      "source": [
        "#initialize random values matrix\n",
        "np.random.rand(4,2)"
      ],
      "metadata": {
        "colab": {
          "base_uri": "https://localhost:8080/"
        },
        "id": "gDtsqD5YYwhI",
        "outputId": "27747a70-5616-4e99-f85a-285748981dd4"
      },
      "execution_count": 48,
      "outputs": [
        {
          "output_type": "execute_result",
          "data": {
            "text/plain": [
              "array([[0.4542586 , 0.6924035 ],\n",
              "       [0.94243555, 0.96145307],\n",
              "       [0.92359815, 0.69510258],\n",
              "       [0.77040792, 0.30187879]])"
            ]
          },
          "metadata": {},
          "execution_count": 48
        }
      ]
    },
    {
      "cell_type": "code",
      "source": [
        "np.random.randint(7,size=(2,3))  #first value = random b/w 0 and first param\n",
        "np.random.randint(-2,6,size=(3,4)) # first 2 parameters = boundary from which rand has to be taken"
      ],
      "metadata": {
        "colab": {
          "base_uri": "https://localhost:8080/"
        },
        "id": "mFI2bC9_ZMQE",
        "outputId": "782d18df-1368-4f56-a42d-be32514d0309"
      },
      "execution_count": 55,
      "outputs": [
        {
          "output_type": "execute_result",
          "data": {
            "text/plain": [
              "array([[ 3,  5,  1,  5],\n",
              "       [-2, -2,  0,  4],\n",
              "       [ 4, -2,  2,  5]])"
            ]
          },
          "metadata": {},
          "execution_count": 55
        }
      ]
    },
    {
      "cell_type": "code",
      "source": [
        "ar = np.array([[1,2,3]])\n",
        "np.repeat(ar,3,axis = 0) #axis = 0 [means vertical] , axis = 1[means horizontal]"
      ],
      "metadata": {
        "colab": {
          "base_uri": "https://localhost:8080/"
        },
        "id": "gMjcBA5yZRTt",
        "outputId": "14a0d4a0-a0d8-4cd0-d201-fe2c30d27077"
      },
      "execution_count": 59,
      "outputs": [
        {
          "output_type": "execute_result",
          "data": {
            "text/plain": [
              "array([[1, 2, 3],\n",
              "       [1, 2, 3],\n",
              "       [1, 2, 3]])"
            ]
          },
          "metadata": {},
          "execution_count": 59
        }
      ]
    },
    {
      "cell_type": "code",
      "source": [
        "temp = np.ones((5,5))\n",
        "print(temp)"
      ],
      "metadata": {
        "colab": {
          "base_uri": "https://localhost:8080/"
        },
        "id": "gcXhJ0AgZ-UA",
        "outputId": "0b6d254f-1fb6-4672-d0e5-15abf0880001"
      },
      "execution_count": 77,
      "outputs": [
        {
          "output_type": "stream",
          "name": "stdout",
          "text": [
            "[[1. 1. 1. 1. 1.]\n",
            " [1. 1. 1. 1. 1.]\n",
            " [1. 1. 1. 1. 1.]\n",
            " [1. 1. 1. 1. 1.]\n",
            " [1. 1. 1. 1. 1.]]\n"
          ]
        }
      ]
    },
    {
      "cell_type": "code",
      "source": [
        "mid = np.zeros((3,3))\n",
        "mid[1,1] = 9;\n",
        "print(mid)\n"
      ],
      "metadata": {
        "colab": {
          "base_uri": "https://localhost:8080/"
        },
        "id": "rG59vq8mcLdE",
        "outputId": "733ce9ac-ddd9-4598-c6f4-4e9f17fd5250"
      },
      "execution_count": 79,
      "outputs": [
        {
          "output_type": "stream",
          "name": "stdout",
          "text": [
            "[[0. 0. 0.]\n",
            " [0. 9. 0.]\n",
            " [0. 0. 0.]]\n"
          ]
        }
      ]
    },
    {
      "cell_type": "code",
      "source": [
        "temp[1:-1,1:-1] = mid"
      ],
      "metadata": {
        "id": "cbTlbmvIbTv-"
      },
      "execution_count": 81,
      "outputs": []
    },
    {
      "cell_type": "code",
      "source": [
        "print(temp)"
      ],
      "metadata": {
        "colab": {
          "base_uri": "https://localhost:8080/"
        },
        "id": "YSM3HcnrbpjG",
        "outputId": "d697aac5-9999-47fa-84cc-fc36a5dcd15e"
      },
      "execution_count": 82,
      "outputs": [
        {
          "output_type": "stream",
          "name": "stdout",
          "text": [
            "[[1. 1. 1. 1. 1.]\n",
            " [1. 0. 0. 0. 1.]\n",
            " [1. 0. 9. 0. 1.]\n",
            " [1. 0. 0. 0. 1.]\n",
            " [1. 1. 1. 1. 1.]]\n"
          ]
        }
      ]
    },
    {
      "cell_type": "markdown",
      "source": [
        "Copying arrays errors"
      ],
      "metadata": {
        "id": "o1o0aQIuexbo"
      }
    },
    {
      "cell_type": "code",
      "source": [
        "a = np.array([1,2,3])\n",
        "\n",
        "b = a   #some what like pass by reference. change b and a also changes\n",
        "#and\n",
        "b = a.copy()  #some what like pass by value. changes in b do not affect a\n",
        "\n",
        "# both are totally different\n",
        "\n",
        "\n"
      ],
      "metadata": {
        "id": "Rvl-BWT0bq5-"
      },
      "execution_count": 85,
      "outputs": []
    },
    {
      "cell_type": "markdown",
      "source": [
        "Mathematics\n"
      ],
      "metadata": {
        "id": "oXvUqaHotip9"
      }
    },
    {
      "cell_type": "code",
      "source": [
        "a = np.array([1,2,3,4,5])\n",
        "print(a)"
      ],
      "metadata": {
        "colab": {
          "base_uri": "https://localhost:8080/"
        },
        "id": "b815qxrJfGIc",
        "outputId": "2f67df53-aebc-4af1-9932-058148879d4c"
      },
      "execution_count": 87,
      "outputs": [
        {
          "output_type": "stream",
          "name": "stdout",
          "text": [
            "[1 2 3 4 5]\n"
          ]
        }
      ]
    },
    {
      "cell_type": "code",
      "source": [
        "a-2\n"
      ],
      "metadata": {
        "colab": {
          "base_uri": "https://localhost:8080/"
        },
        "id": "oIkAKYayto-k",
        "outputId": "d6570a06-533b-4cb7-a661-b73cd012f7f7"
      },
      "execution_count": 88,
      "outputs": [
        {
          "output_type": "execute_result",
          "data": {
            "text/plain": [
              "array([-1,  0,  1,  2,  3])"
            ]
          },
          "metadata": {},
          "execution_count": 88
        }
      ]
    },
    {
      "cell_type": "code",
      "source": [
        "a*2"
      ],
      "metadata": {
        "colab": {
          "base_uri": "https://localhost:8080/"
        },
        "id": "x7Ll6RC_tz7e",
        "outputId": "1943e76d-09cc-4ca3-f7e2-95978d86669f"
      },
      "execution_count": 89,
      "outputs": [
        {
          "output_type": "execute_result",
          "data": {
            "text/plain": [
              "array([ 2,  4,  6,  8, 10])"
            ]
          },
          "metadata": {},
          "execution_count": 89
        }
      ]
    },
    {
      "cell_type": "code",
      "source": [
        "b = np.array([3,4,5,6,7])\n",
        "a+b      #ensure that a and b are the same SIZE\n",
        "#or\n",
        "a*b"
      ],
      "metadata": {
        "colab": {
          "base_uri": "https://localhost:8080/"
        },
        "id": "esqgQuUOt1gy",
        "outputId": "6cf8b38a-2549-4fd7-a0d5-4544c7bd3f54"
      },
      "execution_count": 94,
      "outputs": [
        {
          "output_type": "execute_result",
          "data": {
            "text/plain": [
              "array([ 3,  8, 15, 24, 35])"
            ]
          },
          "metadata": {},
          "execution_count": 94
        }
      ]
    },
    {
      "cell_type": "code",
      "source": [
        "np.sin(b)\n",
        "np.cos(b)"
      ],
      "metadata": {
        "colab": {
          "base_uri": "https://localhost:8080/"
        },
        "id": "6uzJKBn7t9hN",
        "outputId": "5771913c-7194-485c-8802-eec9dce0c5f6"
      },
      "execution_count": 93,
      "outputs": [
        {
          "output_type": "execute_result",
          "data": {
            "text/plain": [
              "array([-0.9899925 , -0.65364362,  0.28366219,  0.96017029,  0.75390225])"
            ]
          },
          "metadata": {},
          "execution_count": 93
        }
      ]
    },
    {
      "cell_type": "markdown",
      "source": [
        "Linear Algebra"
      ],
      "metadata": {
        "id": "-qNxsMW5uSOl"
      }
    },
    {
      "cell_type": "code",
      "source": [
        "a = np.ones((4,3))\n",
        "b = np.full((3,4),2)\n",
        "\n",
        "#a*b       #this wont work as dimensions of a and b are different\n",
        "######\n",
        "np.matmul(a,b) #but in matrix multiplication, cols of 1st matrix must be equal to rows of 2nd matrix [here, 3==3]. so matmul is possible\n"
      ],
      "metadata": {
        "colab": {
          "base_uri": "https://localhost:8080/"
        },
        "id": "PYgxZwUruKSP",
        "outputId": "64041b71-8f3c-4a80-d7b1-e6cec294179d"
      },
      "execution_count": 98,
      "outputs": [
        {
          "output_type": "execute_result",
          "data": {
            "text/plain": [
              "array([[6., 6., 6., 6.],\n",
              "       [6., 6., 6., 6.],\n",
              "       [6., 6., 6., 6.],\n",
              "       [6., 6., 6., 6.]])"
            ]
          },
          "metadata": {},
          "execution_count": 98
        }
      ]
    },
    {
      "cell_type": "code",
      "source": [
        "arr = np.identity(3)  #gives identity matrix of size 3.\n",
        "np.linalg.det(arr)   #determinant of identity matrix"
      ],
      "metadata": {
        "colab": {
          "base_uri": "https://localhost:8080/"
        },
        "id": "2JEmyCcUuwQZ",
        "outputId": "ef5e95a2-4c03-4456-fc58-495f5ae4b393"
      },
      "execution_count": 99,
      "outputs": [
        {
          "output_type": "execute_result",
          "data": {
            "text/plain": [
              "1.0"
            ]
          },
          "metadata": {},
          "execution_count": 99
        }
      ]
    },
    {
      "cell_type": "markdown",
      "source": [
        "Statistics\n"
      ],
      "metadata": {
        "id": "FT7D9opDvjAU"
      }
    },
    {
      "cell_type": "code",
      "source": [
        "stats = np.array([1,2,3,4,5])\n",
        "np.min(stats)"
      ],
      "metadata": {
        "colab": {
          "base_uri": "https://localhost:8080/"
        },
        "id": "cGB-wAPfvdZH",
        "outputId": "8d3ccdc0-3aa7-43d8-d91f-73f891d6ace7"
      },
      "execution_count": 100,
      "outputs": [
        {
          "output_type": "execute_result",
          "data": {
            "text/plain": [
              "1"
            ]
          },
          "metadata": {},
          "execution_count": 100
        }
      ]
    },
    {
      "cell_type": "code",
      "source": [
        "np.max(stats)"
      ],
      "metadata": {
        "colab": {
          "base_uri": "https://localhost:8080/"
        },
        "id": "YyVGpywLvowE",
        "outputId": "a7da5ed5-bd4d-410b-b991-d1aef46fda64"
      },
      "execution_count": 101,
      "outputs": [
        {
          "output_type": "execute_result",
          "data": {
            "text/plain": [
              "5"
            ]
          },
          "metadata": {},
          "execution_count": 101
        }
      ]
    },
    {
      "cell_type": "code",
      "source": [
        "multi = np.array([[1,2,3],[4,5,6]])\n",
        "print(multi)\n",
        "np.min(multi,axis=0)   #min value of columns"
      ],
      "metadata": {
        "colab": {
          "base_uri": "https://localhost:8080/"
        },
        "id": "0Phj1VkivqNA",
        "outputId": "efb95c04-3393-4140-caab-81cc1251ef71"
      },
      "execution_count": 105,
      "outputs": [
        {
          "output_type": "stream",
          "name": "stdout",
          "text": [
            "[[1 2 3]\n",
            " [4 5 6]]\n"
          ]
        },
        {
          "output_type": "execute_result",
          "data": {
            "text/plain": [
              "array([1, 2, 3])"
            ]
          },
          "metadata": {},
          "execution_count": 105
        }
      ]
    },
    {
      "cell_type": "code",
      "source": [
        "np.min(multi,axis = 1)   # min value of rows"
      ],
      "metadata": {
        "colab": {
          "base_uri": "https://localhost:8080/"
        },
        "id": "jh065YgYv4Jv",
        "outputId": "c3f27dbb-731c-40a1-d201-afb79e08d58d"
      },
      "execution_count": 104,
      "outputs": [
        {
          "output_type": "execute_result",
          "data": {
            "text/plain": [
              "array([1, 4])"
            ]
          },
          "metadata": {},
          "execution_count": 104
        }
      ]
    },
    {
      "cell_type": "code",
      "source": [
        "np.sum(multi)\n",
        "np.sum(multi,axis = 0)"
      ],
      "metadata": {
        "colab": {
          "base_uri": "https://localhost:8080/"
        },
        "id": "I02cZmJ7v_Hh",
        "outputId": "9c74ef8c-13a0-4381-9a9c-04d38227cb96"
      },
      "execution_count": 107,
      "outputs": [
        {
          "output_type": "execute_result",
          "data": {
            "text/plain": [
              "array([5, 7, 9])"
            ]
          },
          "metadata": {},
          "execution_count": 107
        }
      ]
    },
    {
      "cell_type": "markdown",
      "source": [
        "Reorganizing Data"
      ],
      "metadata": {
        "id": "1xxmBOiUwYyc"
      }
    },
    {
      "cell_type": "code",
      "source": [
        "prev = np.array([[1,2,3],[4,5,6]])\n",
        "print(prev)"
      ],
      "metadata": {
        "colab": {
          "base_uri": "https://localhost:8080/"
        },
        "id": "7QuxDec2wM3d",
        "outputId": "a83123d4-521d-4377-bd23-d5daffb11514"
      },
      "execution_count": 108,
      "outputs": [
        {
          "output_type": "stream",
          "name": "stdout",
          "text": [
            "[[1 2 3]\n",
            " [4 5 6]]\n"
          ]
        }
      ]
    },
    {
      "cell_type": "code",
      "source": [
        "curr = prev.reshape((6,1))  # reshaping array of 2*3 into 6*1\n",
        "   #ensure that while reshaping total elements remain same\n",
        "#u cant reshape to say 10*2 or 8*1 [cause 2*3 is 6. the multi of the new dimensions should be equal to 6]\n",
        "meh = prev.reshape((2,3,1))\n",
        "print(meh)"
      ],
      "metadata": {
        "colab": {
          "base_uri": "https://localhost:8080/"
        },
        "id": "bxA7SWUGwmTt",
        "outputId": "12c58a49-daf6-42fe-bd97-6d6eb5f6c703"
      },
      "execution_count": 114,
      "outputs": [
        {
          "output_type": "stream",
          "name": "stdout",
          "text": [
            "[[[1]\n",
            "  [2]\n",
            "  [3]]\n",
            "\n",
            " [[4]\n",
            "  [5]\n",
            "  [6]]]\n"
          ]
        }
      ]
    },
    {
      "cell_type": "markdown",
      "source": [
        " Stacking datatypes"
      ],
      "metadata": {
        "id": "VQBXBUAtxx-j"
      }
    },
    {
      "cell_type": "code",
      "source": [
        "x = np.array([1,2,3,4])\n",
        "y = np.array([5,6,7,8])\n",
        "np.vstack((x,y))\n",
        "#or\n",
        "np.vstack((x,y,x,y))  #just ensure sizes of both vectors are same\n",
        "\n",
        "a = np.array([1,2])\n",
        "b = np.array([1,2,3])\n",
        "#np.hstack(a,b)   #throws error"
      ],
      "metadata": {
        "id": "C5-y4O2jwxd4"
      },
      "execution_count": 119,
      "outputs": []
    },
    {
      "cell_type": "code",
      "source": [
        "np.hstack((x,y))"
      ],
      "metadata": {
        "colab": {
          "base_uri": "https://localhost:8080/"
        },
        "id": "p-qfLvVsyKTC",
        "outputId": "ba1ea747-cead-47f9-a099-7041ea5f6ae2"
      },
      "execution_count": 116,
      "outputs": [
        {
          "output_type": "execute_result",
          "data": {
            "text/plain": [
              "array([1, 2, 3, 4, 5, 6, 7, 8])"
            ]
          },
          "metadata": {},
          "execution_count": 116
        }
      ]
    },
    {
      "cell_type": "markdown",
      "source": [
        "Miscellaneous"
      ],
      "metadata": {
        "id": "4B8j9L87zA77"
      }
    },
    {
      "cell_type": "code",
      "source": [
        "mydata = np.genfromtxt('data.txt',delimiter=',')\n",
        "mydata.astype('int16')  #makes a copy, doesnt change the original data\n",
        "mydata = mydata.astype('int16')  #this actually changes the datatype"
      ],
      "metadata": {
        "colab": {
          "base_uri": "https://localhost:8080/"
        },
        "id": "lJSqhhCGyOv1",
        "outputId": "7592467d-a7b1-4173-a264-9d0f4bbb73cb"
      },
      "execution_count": 121,
      "outputs": [
        {
          "output_type": "execute_result",
          "data": {
            "text/plain": [
              "array([[ 1,  2,  3,  4,  5],\n",
              "       [ 6,  7,  8,  9, 10],\n",
              "       [11, 12, 13, 14, 15],\n",
              "       [16, 17, 18, 19, 20]], dtype=int16)"
            ]
          },
          "metadata": {},
          "execution_count": 121
        }
      ]
    },
    {
      "cell_type": "code",
      "source": [
        "mydata>15"
      ],
      "metadata": {
        "colab": {
          "base_uri": "https://localhost:8080/"
        },
        "id": "MMnCI9MJ-_rN",
        "outputId": "a8b4fff8-73b0-461a-964f-2c48f7ddc7e2"
      },
      "execution_count": 123,
      "outputs": [
        {
          "output_type": "execute_result",
          "data": {
            "text/plain": [
              "array([[False, False, False, False, False],\n",
              "       [False, False, False, False, False],\n",
              "       [False, False, False, False, False],\n",
              "       [ True,  True,  True,  True,  True]])"
            ]
          },
          "metadata": {},
          "execution_count": 123
        }
      ]
    },
    {
      "cell_type": "code",
      "source": [
        "mydata[mydata>15]"
      ],
      "metadata": {
        "colab": {
          "base_uri": "https://localhost:8080/"
        },
        "id": "oGF6igOz_vWl",
        "outputId": "92036abe-47c6-4f72-fe95-152a9d8ec144"
      },
      "execution_count": 124,
      "outputs": [
        {
          "output_type": "execute_result",
          "data": {
            "text/plain": [
              "array([16., 17., 18., 19., 20.])"
            ]
          },
          "metadata": {},
          "execution_count": 124
        }
      ]
    },
    {
      "cell_type": "code",
      "source": [
        " #we can also index a numpy array with the help of list\n",
        " aa = np.array([1,2,3,4,5,6,7,8])\n",
        " aa[[1,2,4,6]]"
      ],
      "metadata": {
        "colab": {
          "base_uri": "https://localhost:8080/"
        },
        "id": "Azk8aVhn_528",
        "outputId": "7fbd4d2f-b88e-4f95-e1f7-77daa1d75c89"
      },
      "execution_count": 127,
      "outputs": [
        {
          "output_type": "execute_result",
          "data": {
            "text/plain": [
              "array([2, 3, 5, 7])"
            ]
          },
          "metadata": {},
          "execution_count": 127
        }
      ]
    },
    {
      "cell_type": "code",
      "source": [
        "np.any(mydata>16,axis =1) #checks each column if any value in column value is greater than 15"
      ],
      "metadata": {
        "colab": {
          "base_uri": "https://localhost:8080/"
        },
        "id": "jLlRQsr2AaW5",
        "outputId": "260ba725-c7a3-44a7-e68e-495f3529f1ff"
      },
      "execution_count": 130,
      "outputs": [
        {
          "output_type": "execute_result",
          "data": {
            "text/plain": [
              "array([False, False, False,  True])"
            ]
          },
          "metadata": {},
          "execution_count": 130
        }
      ]
    },
    {
      "cell_type": "code",
      "source": [
        "(~(mydata>7) & (mydata<18))  # ~ symbol means not"
      ],
      "metadata": {
        "colab": {
          "base_uri": "https://localhost:8080/"
        },
        "id": "wUEUMAx9A1r0",
        "outputId": "6f28acf6-5ff4-4db4-b0e7-1e31fa442660"
      },
      "execution_count": 132,
      "outputs": [
        {
          "output_type": "execute_result",
          "data": {
            "text/plain": [
              "array([[ True,  True,  True,  True,  True],\n",
              "       [ True,  True, False, False, False],\n",
              "       [False, False, False, False, False],\n",
              "       [False, False, False, False, False]])"
            ]
          },
          "metadata": {},
          "execution_count": 132
        }
      ]
    },
    {
      "cell_type": "code",
      "source": [
        "mydata[[0,1,2,3],[1,2,3,4]]"
      ],
      "metadata": {
        "colab": {
          "base_uri": "https://localhost:8080/"
        },
        "id": "Bc6_V6YwBS9b",
        "outputId": "7f2f4d28-65d3-468e-ecf4-436fa536aa2f"
      },
      "execution_count": 137,
      "outputs": [
        {
          "output_type": "execute_result",
          "data": {
            "text/plain": [
              "array([ 2.,  8., 14., 20.])"
            ]
          },
          "metadata": {},
          "execution_count": 137
        }
      ]
    },
    {
      "cell_type": "code",
      "source": [
        "mydata[[0,2,3],2:-1]"
      ],
      "metadata": {
        "colab": {
          "base_uri": "https://localhost:8080/"
        },
        "id": "-dTmLOSjCSu1",
        "outputId": "04829345-2dcc-4482-fa48-f2ad2e7a19fd"
      },
      "execution_count": 153,
      "outputs": [
        {
          "output_type": "execute_result",
          "data": {
            "text/plain": [
              "array([[ 3.,  4.],\n",
              "       [13., 14.],\n",
              "       [18., 19.]])"
            ]
          },
          "metadata": {},
          "execution_count": 153
        }
      ]
    },
    {
      "cell_type": "code",
      "source": [],
      "metadata": {
        "id": "cgZHEMIYDJ1J"
      },
      "execution_count": null,
      "outputs": []
    }
  ],
  "metadata": {
    "colab": {
      "provenance": [],
      "authorship_tag": "ABX9TyNBJQSqbFQ5QlOempdrJY/k",
      "include_colab_link": true
    },
    "kernelspec": {
      "display_name": "Python 3",
      "name": "python3"
    },
    "language_info": {
      "name": "python"
    }
  },
  "nbformat": 4,
  "nbformat_minor": 0
}